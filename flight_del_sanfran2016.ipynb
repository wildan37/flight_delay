{
 "cells": [
  {
   "cell_type": "markdown",
   "metadata": {},
   "source": [
    "Step 1 : Imports the data into a POstgreSQL database with adjustable spesifications. This can be efficiently imported using Spark."
   ]
  },
  {
   "cell_type": "code",
   "execution_count": 1,
   "metadata": {
    "collapsed": true
   },
   "outputs": [],
   "source": [
    "import findspark\n",
    "findspark.init('/opt/spark/')"
   ]
  },
  {
   "cell_type": "code",
   "execution_count": 2,
   "metadata": {
    "collapsed": true
   },
   "outputs": [],
   "source": [
    "import itertools\n",
    "from datetime import datetime\n",
    "from pyspark import StorageLevel\n",
    "from pyspark.sql.types import StringType, IntegerType, DoubleType, DecimalType,LongType \n",
    "from pyspark.sql.types import StructType, StructField, DateType\n",
    "from pyspark import SparkConf\n",
    "from pyspark import SparkContext\n",
    "from pyspark.sql import SQLContext, Row\n",
    "from pyspark.sql.functions import col, udf, unix_timestamp, avg"
   ]
  },
  {
   "cell_type": "code",
   "execution_count": 3,
   "metadata": {
    "collapsed": true,
    "scrolled": true
   },
   "outputs": [],
   "source": [
    "sc = SparkContext(appName='Keberangkatan_delay')\n",
    "sql_c = SQLContext(sc)"
   ]
  },
  {
   "cell_type": "markdown",
   "metadata": {},
   "source": [
    "Step 2: To efficiently manage the data, the data types are defined. "
   ]
  },
  {
   "cell_type": "code",
   "execution_count": 4,
   "metadata": {
    "collapsed": true
   },
   "outputs": [],
   "source": [
    "skema_pesawat = StructType([\n",
    "    StructField(\"Year\", IntegerType()),\n",
    "    StructField(\"Quarter\", IntegerType()),\n",
    "    StructField(\"Month\", IntegerType()),\n",
    "    StructField(\"DayofMonth\", IntegerType()),\n",
    "    StructField(\"DayofWeek\", IntegerType()),\n",
    "    StructField(\"FlightDate\", StringType()),\n",
    "    StructField(\"UniqueCarrier\", StringType()),\n",
    "    StructField(\"AirlineID\", LongType()),\n",
    "    StructField(\"Carrier\", StringType()),\n",
    "    StructField(\"TailNum\", StringType()),\n",
    "    StructField(\"FlightNum\", IntegerType()),\n",
    "    StructField(\"OriginAirportID\", IntegerType()),\n",
    "    StructField(\"OriginAirportSeqID\", IntegerType()),\n",
    "    StructField(\"OriginCityMarketID\", IntegerType()),\n",
    "    StructField(\"Origin\", StringType()),\n",
    "    StructField(\"OriginCityName\", StringType()),\n",
    "    StructField(\"OriginState\", StringType()),\n",
    "    StructField(\"OriginStateFips\", IntegerType()),\n",
    "    StructField(\"OriginStateName\", StringType()),\n",
    "    StructField(\"OriginWac\", IntegerType()),\n",
    "    StructField(\"DestAirportID\", IntegerType()),\n",
    "    StructField(\"DestAirportSeqID\", IntegerType()),\n",
    "    StructField(\"DestCityMarketID\", IntegerType()),\n",
    "    StructField(\"Dest\", StringType()),\n",
    "    StructField(\"DestCityName\", StringType()),\n",
    "    StructField(\"DestState\", StringType()),\n",
    "    StructField(\"DestStateFips\", IntegerType()),\n",
    "    StructField(\"DestStateName\", StringType()),\n",
    "    StructField(\"DestWac\", IntegerType()),\n",
    "    StructField(\"CRSDepTime\", StringType()),\n",
    "    StructField(\"DepTime\", StringType()),\n",
    "    StructField(\"DepDelay\", DoubleType()),\n",
    "    StructField(\"DepDelayMinutes\", DoubleType()),\n",
    "    StructField(\"DepDel15\", DoubleType()),\n",
    "    StructField(\"DepartureDelayGroups\", IntegerType()),\n",
    "    StructField(\"DepTimeBlk\", StringType()),\n",
    "    StructField(\"TaxiOut\", DoubleType()),\n",
    "    StructField(\"WheelsOff\", StringType()),\n",
    "    StructField(\"WheelsOn\", StringType()),\n",
    "    StructField(\"TaxiIn\", DoubleType()),\n",
    "    StructField(\"CRSArrTime\", StringType()),\n",
    "    StructField(\"ArrTime\", StringType()),\n",
    "    StructField(\"ArrDelay\", DoubleType()),\n",
    "    StructField(\"ArrDelayMinutes\", DoubleType()),\n",
    "    StructField(\"ArrDel15\", DoubleType()),\n",
    "    StructField(\"ArrivalDelayGroups\", IntegerType()),\n",
    "    StructField(\"ArrTimeBlk\", StringType()),\n",
    "    StructField(\"Cancelled\", DoubleType()),\n",
    "    StructField(\"CancellationCode\", StringType()),\n",
    "    StructField(\"Diverted\", DoubleType()),\n",
    "    StructField(\"CRSElapsedTime\", DoubleType()),\n",
    "    StructField(\"ActualElapsedTime\", DoubleType()),\n",
    "    StructField(\"AirTime\", DoubleType()),\n",
    "    StructField(\"Flights\", DoubleType()),\n",
    "    StructField(\"Distance\", DoubleType()),\n",
    "    StructField(\"DistanceGroup\", IntegerType()),\n",
    "    StructField(\"CarrierDelay\", DoubleType()),\n",
    "    StructField(\"WeatherDelay\", DoubleType()),\n",
    "    StructField(\"NASDelay\", DoubleType()),\n",
    "    StructField(\"SecurityDelay\", DoubleType()),\n",
    "    StructField(\"LateAircraftDelay\", DoubleType()),\n",
    "    StructField(\"FirstDepTime\", StringType()),\n",
    "    StructField(\"TotalAddGTime\", StringType()),\n",
    "    StructField(\"LongestAddGTime\", StringType()),\n",
    "    StructField(\"DivAirportLandings\", StringType()),\n",
    "    StructField(\"DivReachedDest\", StringType()),\n",
    "    StructField(\"DivActualElapsedTime\", StringType()),\n",
    "    StructField(\"DivArrDelay\", StringType()),\n",
    "    StructField(\"DivDistance\", StringType()),\n",
    "    StructField(\"Div1Airport\", StringType()),\n",
    "    StructField(\"Div1AirportID\", StringType()),\n",
    "    StructField(\"Div1AirportSeqID\", StringType()),\n",
    "    StructField(\"Div1WheelsOn\", StringType()),\n",
    "    StructField(\"Div1TotalGTime\", StringType()),\n",
    "    StructField(\"Div1LongestGTime\", StringType()),\n",
    "    StructField(\"Div1WheelsOff\", StringType()),\n",
    "    StructField(\"Div1TailNum\", StringType()),\n",
    "    StructField(\"Div2Airport\", StringType()),\n",
    "    StructField(\"Div2AirportID\", StringType()),\n",
    "    StructField(\"Div2AirportSeqID\", StringType()),\n",
    "    StructField(\"Div2WheelsOn\", StringType()),\n",
    "    StructField(\"Div2TotalGTime\", StringType()),\n",
    "    StructField(\"Div2LongestGTime\", StringType()),\n",
    "    StructField(\"Div2WheelsOff\", StringType()),\n",
    "    StructField(\"Div2TailNum\", StringType()),\n",
    "    StructField(\"Div3Airport\", StringType()),\n",
    "    StructField(\"Div3AirportID\", StringType()),\n",
    "    StructField(\"Div3AirportSeqID\", StringType()),\n",
    "    StructField(\"Div3WheelsOn\", StringType()),\n",
    "    StructField(\"Div3TotalGTime\", StringType()),\n",
    "    StructField(\"Div3LongestGTime\", StringType()),\n",
    "    StructField(\"Div3WheelsOff\", StringType()),\n",
    "    StructField(\"Div3TailNum\", StringType()),\n",
    "    StructField(\"Div4Airport\", StringType()),\n",
    "    StructField(\"Div4AirportID\", StringType()),\n",
    "    StructField(\"Div4AirportSeqID\", StringType()),\n",
    "    StructField(\"Div4WheelsOn\", StringType()),\n",
    "    StructField(\"Div4TotalGTime\", StringType()),\n",
    "    StructField(\"Div4LongestGTime\", StringType()),\n",
    "    StructField(\"Div4WheelsOff\", StringType()),\n",
    "    StructField(\"Div4TailNum\", StringType()),\n",
    "    StructField(\"Div5Airport\", StringType()),\n",
    "    StructField(\"Div5AirportID\", StringType()),\n",
    "    StructField(\"Div5AirportSeqID\", StringType()),\n",
    "    StructField(\"Div5WheelsOn\", StringType()),\n",
    "    StructField(\"Div5TotalGTime\", StringType()),\n",
    "    StructField(\"Div5LongestGTime\", StringType()),\n",
    "    StructField(\"Div5WheelsOff\", StringType()),\n",
    "    StructField(\"Div5TailNum\", StringType())\n",
    "])"
   ]
  },
  {
   "cell_type": "markdown",
   "metadata": {},
   "source": [
    "The monthly raw-downloaded data of 2016 were collected and will be tranformed later into hdfs files."
   ]
  },
  {
   "cell_type": "code",
   "execution_count": 5,
   "metadata": {},
   "outputs": [
    {
     "name": "stdout",
     "output_type": "stream",
     "text": [
      "mengumpulkan data ... \n",
      "2016_1, 2016_2, 2016_3, 2016_4, 2016_5, 2016_6, 2016_7, 2016_8, 2016_9, 2016_10, 2016_11, 2016_12, selesei\n"
     ]
    }
   ],
   "source": [
    "list_tahun = ['2016']\n",
    "list_bulan = ['1','2','3','4','5','6','7','8','9','10','11','12']\n",
    "\n",
    "total_data = {}\n",
    "\n",
    "#Collecting datas from 12 csv files\n",
    "print('mengumpulkan data ... ')\n",
    "for (tahun_str, bulan_str) in list (itertools.product(list_tahun, list_bulan)):\n",
    "    tah_bul_str = '%s_%s'%(tahun_str, bulan_str)\n",
    "    print('%s, '%(tah_bul_str), end=\"\")\n",
    "    total_data[tah_bul_str] = sql_c.read.csv(\n",
    "    '/Users/wildanabdussalam/Documents/Code/datascience/dep_delay_san_2016/On_Time_On_Time_Performance_%s.csv'%(tah_bul_str),\n",
    "    header=True,\n",
    "    schema=skema_pesawat,\n",
    "    escape='\"'\n",
    "    )\n",
    "print('selesei')"
   ]
  },
  {
   "cell_type": "markdown",
   "metadata": {},
   "source": [
    "The aformentioned collected data still contained unnecessary data. The following scripts were aimed to filter it such that the meaningful informations were obtained. "
   ]
  },
  {
   "cell_type": "code",
   "execution_count": 6,
   "metadata": {},
   "outputs": [
    {
     "name": "stdout",
     "output_type": "stream",
     "text": [
      "Memproses2016_1, 2016_2, 2016_3, 2016_4, 2016_5, 2016_6, 2016_7, 2016_8, 2016_9, 2016_10, 2016_11, 2016_12, Selesei\n"
     ]
    }
   ],
   "source": [
    "ubketanggal = udf(lambda x: datetime.strptime(x, '%Y-%m-%d'), DateType())\n",
    "\n",
    "bag_dat_penerbangan = []\n",
    "\n",
    "print('Memproses', end=\"\")\n",
    "for tah_bul_str, ter_dat in total_data.items():\n",
    "    print('%s, ' %(tah_bul_str), end=\"\")\n",
    "    dat_penerbangan = ter_dat.select(\n",
    "    \"Year\",\"Quarter\",\"Month\",\"DayofMonth\",\"DayOfWeek\",\"FlightDate\",\"UniqueCarrier\",\"AirlineID\",\n",
    "    \"Carrier\",\"TailNum\",\"FlightNum\",\"OriginAirportID\",\"OriginAirportSeqID\",\"OriginCityMarketID\",\n",
    "    \"Origin\",\"OriginCityName\",\"OriginState\",\"OriginStateFips\",\"OriginStateName\",\"OriginWac\",\n",
    "    \"DestAirportID\",\"DestAirportSeqID\",\"DestCityMarketID\",\"Dest\",\"DestCityName\",\"DestState\",\n",
    "    \"DestStateFips\",\"DestStateName\",\"DestWac\",\"CRSDepTime\",\"DepTime\",\"DepDelay\",\"DepDelayMinutes\",\n",
    "    \"DepDel15\",\"DepartureDelayGroups\",\"DepTimeBlk\",\"TaxiOut\",\"WheelsOff\",\"WheelsOn\",\"TaxiIn\",\"CRSArrTime\",\n",
    "    \"ArrTime\",\"ArrDelay\",\"ArrDelayMinutes\",\"ArrDel15\",\"ArrivalDelayGroups\",\"ArrTimeBlk\",\"Cancelled\",\n",
    "    \"CancellationCode\",\"Diverted\",\"CRSElapsedTime\",\"ActualElapsedTime\",\"AirTime\",\"Flights\",\"Distance\",\n",
    "    \"DistanceGroup\",\"CarrierDelay\",\"WeatherDelay\",\"NASDelay\",\"SecurityDelay\",\"LateAircraftDelay\"\n",
    "    ).withColumn(\n",
    "        'FlightDate', ubketanggal(col('FlightDate'))\n",
    "    )\n",
    "    bag_dat_penerbangan.append(dat_penerbangan)\n",
    "    \n",
    "print('Selesei')"
   ]
  },
  {
   "cell_type": "markdown",
   "metadata": {},
   "source": [
    "The data were eventually saved in hdfs-type (parquette) files. There were several advantages of this technique:\n",
    "1. The downloaded data could be easily extended to bigger size of data. For example, with this script one can download the data prior to 1990. \n",
    "2. Since the data were saved to separated files, this enabled parallel-complex data processing which could be efficiently solved using Hadoop.\n",
    "3. Should we need to show insitu big data visualisation, hdfs could be integrated easily with opensource projects such as https://openpmd-api.readthedocs.io as well as https://yt-project.org/."
   ]
  },
  {
   "cell_type": "code",
   "execution_count": 7,
   "metadata": {
    "scrolled": true
   },
   "outputs": [
    {
     "name": "stdout",
     "output_type": "stream",
     "text": [
      "satukan data, 1, 2, 3, 4, 5, 6, 7, 8, 9, 10, 11,  Selesei!\n",
      "Mulai export to HDFS...\n",
      "Selesei!\n"
     ]
    }
   ],
   "source": [
    "data_master = bag_dat_penerbangan[0]\n",
    "\n",
    "print('satukan data, ', end=\"\")\n",
    "for i in range(1,len(bag_dat_penerbangan)):\n",
    "    print('%d, '%(i), end=\"\")\n",
    "    data_master = data_master.union(bag_dat_penerbangan[i])\n",
    "print(\" Selesei!\")\n",
    "\n",
    "print('Mulai export to HDFS...')\n",
    "data_master.write.partitionBy(\n",
    "        \"Year\",\"Month\"\n",
    "    ).parquet(\n",
    "        '/Users/wildanabdussalam/Documents/Code/datascience/airline_data',\n",
    "        mode='overwrite'\n",
    "    )\n",
    "print('Selesei!')"
   ]
  },
  {
   "cell_type": "markdown",
   "metadata": {},
   "source": [
    "After saving into parquette files, the data can be served as meaningful datasets. Afterthat, pandas can be used to efficiently explore the informations within the data."
   ]
  },
  {
   "cell_type": "code",
   "execution_count": null,
   "metadata": {
    "collapsed": true
   },
   "outputs": [],
   "source": [
    "import numpy as np\n",
    "import matplotlib.pyplot as plt\n",
    "import pandas as pd"
   ]
  },
  {
   "cell_type": "code",
   "execution_count": 10,
   "metadata": {},
   "outputs": [],
   "source": [
    "data_penerbangan = sql_c.read.parquet('airline_data')"
   ]
  },
  {
   "cell_type": "markdown",
   "metadata": {},
   "source": [
    "In order to obtain more meaningful informations that aformentioned data, the data were filtered again such that we can extend it later to train and test the model. The following columns were chosen to gain some informations associated with the departure delays of airlines from the San Francisco airport. "
   ]
  },
  {
   "cell_type": "code",
   "execution_count": 173,
   "metadata": {
    "collapsed": true
   },
   "outputs": [],
   "source": [
    "def tahbulstr(tahun, bulan):\n",
    "    return '%d-%02d'%(tahun, bulan)\n",
    "\n",
    "\n",
    "udftahbulstr = udf(tahbulstr, StringType())\n",
    "\n",
    "delay_maskapai = data_penerbangan.select(\n",
    "    'Year',\n",
    "    'Month',\n",
    "    'DayofWeek',\n",
    "    'DayofMonth',\n",
    "    'Carrier',\n",
    "    'TailNum',\n",
    "    'FlightNum',\n",
    "    'Origin',\n",
    "    'Dest',\n",
    "    'DepTime',\n",
    "    'DepDelayMinutes',\n",
    "    'DepDel15',\n",
    "    'TaxiOut',\n",
    "    'Distance',\n",
    "    'ArrDelayMinutes'\n",
    ").filter(\n",
    "#     (col('Origin').isin('SFO')) & (col('DepDelayMinutes') > 0) \n",
    "    col('Origin').isin('SFO')\n",
    ")"
   ]
  },
  {
   "cell_type": "code",
   "execution_count": 174,
   "metadata": {},
   "outputs": [],
   "source": [
    "delay_maskapai_pd = delay_maskapai.toPandas()"
   ]
  },
  {
   "cell_type": "markdown",
   "metadata": {},
   "source": [
    "After filtering, we therefore can gain some informations by setting questions. For example, how many Airlines fly from San Francisco in 2016?"
   ]
  },
  {
   "cell_type": "code",
   "execution_count": 152,
   "metadata": {},
   "outputs": [
    {
     "data": {
      "text/plain": [
       "10"
      ]
     },
     "execution_count": 152,
     "metadata": {},
     "output_type": "execute_result"
    }
   ],
   "source": [
    "len(delay_maskapai_pd.Carrier.unique())"
   ]
  },
  {
   "cell_type": "markdown",
   "metadata": {},
   "source": [
    "There were 10 flight carriers from San Francico in 2016."
   ]
  },
  {
   "cell_type": "markdown",
   "metadata": {},
   "source": [
    "How many unique airplanes flying from San Francisco in 2016? [note that according to USA, the flight delays were counted for delays more than 15 minutes. Therefore, we created another filtered data which contained all delayed flights more than 15 minutes]"
   ]
  },
  {
   "cell_type": "code",
   "execution_count": 153,
   "metadata": {},
   "outputs": [
    {
     "data": {
      "text/plain": [
       "3236"
      ]
     },
     "execution_count": 153,
     "metadata": {},
     "output_type": "execute_result"
    }
   ],
   "source": [
    "ave_delay = delay_maskapai_pd[(delay_maskapai_pd.DepDelayMinutes > 15)]\n",
    "len(ave_delay.TailNum.unique())"
   ]
  },
  {
   "cell_type": "markdown",
   "metadata": {},
   "source": [
    "How many destinations from San francisco in 2016?"
   ]
  },
  {
   "cell_type": "code",
   "execution_count": 154,
   "metadata": {},
   "outputs": [
    {
     "name": "stdout",
     "output_type": "stream",
     "text": [
      "81\n"
     ]
    }
   ],
   "source": [
    "san_connection = delay_maskapai_pd[(delay_maskapai_pd.Origin=='SFO')]\n",
    "datagrup = san_connection.groupby([san_connection.Dest]).size()\n",
    "print(len(datagrup))\n"
   ]
  },
  {
   "cell_type": "markdown",
   "metadata": {},
   "source": [
    "What and when was the maximum departure delay in 2016? "
   ]
  },
  {
   "cell_type": "code",
   "execution_count": 155,
   "metadata": {},
   "outputs": [
    {
     "name": "stdout",
     "output_type": "stream",
     "text": [
      "2149.0\n"
     ]
    }
   ],
   "source": [
    "print(max(ave_delay.DepDelayMinutes))"
   ]
  },
  {
   "cell_type": "code",
   "execution_count": 156,
   "metadata": {},
   "outputs": [
    {
     "name": "stdout",
     "output_type": "stream",
     "text": [
      "22 8\n"
     ]
    }
   ],
   "source": [
    "print(ave_delay.DayofMonth[max(ave_delay.DepDelayMinutes)],ave_delay.Month[max(ave_delay.DepDelayMinutes)])"
   ]
  },
  {
   "cell_type": "markdown",
   "metadata": {},
   "source": [
    "The maximum departure delay occured on 22/8/2016 which took about 35 hours."
   ]
  },
  {
   "cell_type": "markdown",
   "metadata": {},
   "source": [
    "Were there seasonal traffic from San Francisco airport?"
   ]
  },
  {
   "cell_type": "code",
   "execution_count": 41,
   "metadata": {},
   "outputs": [
    {
     "data": {
      "image/png": "[encoded data removed]",
      "text/plain": [
       "<Figure size 548.7x209.587 with 1 Axes>"
      ]
     },
     "metadata": {},
     "output_type": "display_data"
    }
   ],
   "source": [
    "\n",
    "datagrup = pd.DataFrame(ave_delay.groupby([ave_delay.Month])['DepDelayMinutes'].mean().reset_index(name='Mean_Delay_Departure'))\n",
    "# print(datagrup)\n",
    "\n",
    "width = 5.487\n",
    "height = width / 2.618\n",
    "\n",
    "plt.close('all')\n",
    "#Plotting Mean Departure delay over a Day\n",
    "fig, axarr = plt.subplots(1, figsize=(6,3), dpi=100, sharex=False, sharey=False)\n",
    "fig.subplots_adjust(left=.15, bottom=.16, right=.99, top=.97)\n",
    "\n",
    "axarr.plot(datagrup.Month, datagrup.Mean_Delay_Departure,'ro--')\n",
    "axarr.set_xlim(1, 12)\n",
    "axarr.set_ylabel('Mean-delay Dep-time (min)')\n",
    "axarr.set_xlabel('Months')\n",
    "axarr.set_title('2016')\n",
    "\n",
    "fig.set_size_inches(width, height)\n",
    "fig.savefig(\"/Users/wildanabdussalam/Documents/Code/datascience/mean_dep_del_monthly.png\",\n",
    "           bbox_inches=\"tight\", dpi=200)\n",
    "plt.show()\n",
    "plt.clf()\n"
   ]
  },
  {
   "cell_type": "markdown",
   "metadata": {},
   "source": [
    "High-mean delay of departure occurs in March, October and December."
   ]
  },
  {
   "cell_type": "markdown",
   "metadata": {},
   "source": [
    "There are more to be explored from the figure above. An example of question of interest is the factors that determined the high-mean delay of departure in March, October, and December. However, these analysis require another data such as weather forecast. Therefore, another aspect of data is studied. The following figure shows airlines performance which departed from the San Francisco airport."
   ]
  },
  {
   "cell_type": "code",
   "execution_count": 38,
   "metadata": {},
   "outputs": [
    {
     "data": {
      "image/png": "[encoded data removed]",
      "text/plain": [
       "<Figure size 548.7x339.122 with 2 Axes>"
      ]
     },
     "metadata": {},
     "output_type": "display_data"
    }
   ],
   "source": [
    "#Grouping by carrier and getting the count\n",
    "grup_mask_filt = ave_delay.groupby([ave_delay.Carrier]).size().reset_index(name='Size')\n",
    "# grup_mask_filt\n",
    "\n",
    "#Fitering dataset for all flights\n",
    "# pen_filt_mask_tot = delay_maskapai_pd[(delay_maskapai_pd.DepDelayMinutes >-15)]\n",
    "grup_mask_filt_tot = delay_maskapai_pd.groupby([delay_maskapai_pd.Carrier]).size().reset_index(name='Size_tot')\n",
    "\n",
    "#Merging column\n",
    "col_gabung = pd.merge(grup_mask_filt,grup_mask_filt_tot, on=['Carrier'])\n",
    "\n",
    "# CalculatingPercentage delays\n",
    "col_gabung[\"Per_Delay\"] = (col_gabung.Size/col_gabung.Size_tot)*100\n",
    "\n",
    "width = 5.487\n",
    "height = width / 1.618\n",
    "\n",
    "plt.close('all')\n",
    "fig, axarr = plt.subplots(2, figsize=(10,8), dpi=100, sharex=True, sharey=False)\n",
    "fig.subplots_adjust(left=.15, bottom=.16, right=.99, top=.97)\n",
    "\n",
    "\n",
    "#Plotting Delay > 15 by Carrier through 2016\n",
    "axarr[0].bar(grup_mask_filt['Carrier'], grup_mask_filt['Size'], color=\"blue\")\n",
    "axarr[0].set_ylabel('Number of delays')\n",
    "\n",
    "#Plotting percentage delay > 15 to delay > 0 minutes\n",
    "axarr[1].bar(col_gabung['Carrier'], col_gabung['Per_Delay'], color=\"green\")\n",
    "axarr[1].set_ylabel(r'$\\%$ delays')\n",
    "axarr[1].set_xlabel('Airlines')\n",
    "axarr[0].set_title('Departure delays through 2016')\n",
    "\n",
    "fig.set_size_inches(width, height)\n",
    "fig.savefig(\"/Users/wildanabdussalam/Documents/Code/datascience/maskap_dep_delay.png\",\n",
    "           bbox_inches=\"tight\", dpi=200)\n",
    "plt.show()\n",
    "plt.clf()\n",
    "\n"
   ]
  },
  {
   "cell_type": "markdown",
   "metadata": {
    "collapsed": true
   },
   "source": [
    "Fig. above shows the departure delays of airlines from San Francisco in 2016. The top figure shows the frequent number of delays against various types of carriers. The bottom one shows the percentage delays against various types of carriers. The percentage delays were defined as a ratio of 15 minutes departure delays to all departures of flights. The carrier codes can be found in the following link https://www.tvlon.com/resources/airlinecodes.htm. \n",
    "\n",
    "As shown in the top figure, United airline was the most departed-delay airline in through 2016 followed by Skywest and Virgin america airlines, respectively. This, however, unlikely to lead to the conclusion that the United airlines was the worst performance airlines through 2016. The United airlines conducted quite frequent flights in 2016 which label them as one of busiest airline in USA. The bottom figure shows inspite of the highest number of delays, the american airlines were not the worst performance airlines through 2016. Frontier airlines, however, placed a highest rank as the worst performance due to their less frequent flights. The best performance airlines were granted to Hawaian airlines followed by Delta airforce as well as American airlines. This is due to the fact that these airline conducted less frequent flights than the aformentioned cases. \n",
    "\n",
    "In addition to aforementioned decscriptions, as the departure delay were usually confirmed for delays more than 15 minutes, the DepDelayMinutes column which consist of boolean could be served as an classification information such that one can predict the flight delay. This could pave the way to understand factors that determine the departure delays at the san francisco airport. Therefore, nine variables were considered to construct a predictor of the binary delay variable.  "
   ]
  },
  {
   "cell_type": "code",
   "execution_count": 472,
   "metadata": {
    "collapsed": true
   },
   "outputs": [],
   "source": [
    "def tahbulstr(tahun, bulan):\n",
    "    return '%d-%02d'%(tahun, bulan)\n",
    "\n",
    "\n",
    "udftahbulstr = udf(tahbulstr, StringType())\n",
    "\n",
    "delay_maskapai_filt = data_penerbangan.select(\n",
    "    'Month',\n",
    "    'DayofWeek',\n",
    "    'DayofMonth',\n",
    "    'Carrier',\n",
    "    'Dest',\n",
    "    'DepTime',\n",
    "    'TaxiOut',\n",
    "    'Distance',\n",
    "    'DepDel15',\n",
    ").filter(\n",
    "#     (col('Origin').isin('SFO')) & (col('DepDelayMinutes') > 0) \n",
    "    col('Origin').isin('SFO')\n",
    ")"
   ]
  },
  {
   "cell_type": "code",
   "execution_count": 473,
   "metadata": {},
   "outputs": [
    {
     "name": "stderr",
     "output_type": "stream",
     "text": [
      "/anaconda3/lib/python3.6/site-packages/ipykernel_launcher.py:3: SettingWithCopyWarning: \n",
      "A value is trying to be set on a copy of a slice from a DataFrame.\n",
      "Try using .loc[row_indexer,col_indexer] = value instead\n",
      "\n",
      "See the caveats in the documentation: http://pandas.pydata.org/pandas-docs/stable/indexing.html#indexing-view-versus-copy\n",
      "  This is separate from the ipykernel package so we can avoid doing imports until\n",
      "/anaconda3/lib/python3.6/site-packages/ipykernel_launcher.py:4: SettingWithCopyWarning: \n",
      "A value is trying to be set on a copy of a slice from a DataFrame.\n",
      "Try using .loc[row_indexer,col_indexer] = value instead\n",
      "\n",
      "See the caveats in the documentation: http://pandas.pydata.org/pandas-docs/stable/indexing.html#indexing-view-versus-copy\n",
      "  after removing the cwd from sys.path.\n"
     ]
    },
    {
     "name": "stdout",
     "output_type": "stream",
     "text": [
      "36445 133485\n"
     ]
    },
    {
     "name": "stderr",
     "output_type": "stream",
     "text": [
      "/anaconda3/lib/python3.6/site-packages/ipykernel_launcher.py:5: SettingWithCopyWarning: \n",
      "A value is trying to be set on a copy of a slice from a DataFrame.\n",
      "Try using .loc[row_indexer,col_indexer] = value instead\n",
      "\n",
      "See the caveats in the documentation: http://pandas.pydata.org/pandas-docs/stable/indexing.html#indexing-view-versus-copy\n",
      "  \"\"\"\n"
     ]
    }
   ],
   "source": [
    "delay_maskapai_filt_pd = delay_maskapai_filt.toPandas()\n",
    "delay_maskapai_filt_pd_onan = delay_maskapai_filt_pd.dropna(axis='rows')\n",
    "delay_maskapai_filt_pd_onan['Carrier'] = pd.factorize(delay_maskapai_filt_pd_onan['Carrier'])[0]\n",
    "delay_maskapai_filt_pd_onan['Dest'] = pd.factorize(delay_maskapai_filt_pd_onan['Dest'])[0] \n",
    "delay_maskapai_filt_pd_onan['DepTime'] = pd.factorize(delay_maskapai_filt_pd_onan['DepTime'])[0] \n",
    "datcom_l = delay_maskapai_filt_pd_onan[(delay_maskapai_filt_pd_onan.DepDel15==1)]\n",
    "datcom_nl = delay_maskapai_filt_pd_onan[(delay_maskapai_filt_pd_onan.DepDel15==0)]\n",
    "print(len(datcom_l), len(datcom_nl))"
   ]
  },
  {
   "cell_type": "code",
   "execution_count": 295,
   "metadata": {},
   "outputs": [
    {
     "name": "stderr",
     "output_type": "stream",
     "text": [
      "/Users/wildanabdussalam/.local/lib/python3.6/site-packages/matplotlib/axes/_axes.py:6462: UserWarning: The 'normed' kwarg is deprecated, and has been replaced by the 'density' kwarg.\n",
      "  warnings.warn(\"The 'normed' kwarg is deprecated, and has been \"\n",
      "/Users/wildanabdussalam/.local/lib/python3.6/site-packages/numpy/core/fromnumeric.py:52: FutureWarning: reshape is deprecated and will raise in a subsequent release. Please use .values.reshape(...) instead\n",
      "  return getattr(obj, method)(*args, **kwds)\n",
      "/Users/wildanabdussalam/.local/lib/python3.6/site-packages/matplotlib/font_manager.py:1328: UserWarning: findfont: Font family ['normal'] not found. Falling back to DejaVu Sans\n",
      "  (prop.get_family(), self.defaultFamily[fontext]))\n"
     ]
    },
    {
     "data": {
      "image/png": "[encoded data removed]",
      "text/plain": [
       "<Figure size 1297.4x1274.46 with 4 Axes>"
      ]
     },
     "metadata": {},
     "output_type": "display_data"
    }
   ],
   "source": [
    "font = {'family' : 'normal',\n",
    "        'weight' : 'bold',\n",
    "        'size'   : 13}\t\n",
    "plt.rc('font', **font)\n",
    "\n",
    "plt.axhline(linewidth=8) \n",
    "plt.axvline(linewidth=8) \n",
    "\n",
    "width = 6.487\n",
    "height = width / 1.018\n",
    "\n",
    "plt.close('all')\n",
    "#Plotting Mean Departure delay over a Day\n",
    "fig, axarr = plt.subplots(2,2, figsize=(6,6), dpi=200,  sharex=False, sharey=False)\n",
    "fig.subplots_adjust(left=.15, bottom=.16, right=.99, top=.97)\n",
    "colors = ['red', 'blue']\n",
    "labels = ['delay', 'no-delay']\n",
    "\n",
    "axarr[0,0].hist([datcom_l.iloc[:,0],datcom_nl.iloc[:,0]], color=colors, \n",
    "           label=labels,bins=20, range=[0,13], histtype=\"bar\", normed=True)\n",
    "axarr[0,0].legend(prop={'size': 10}, loc=1)\n",
    "axarr[0,0].set_xlim(0, 13)\n",
    "axarr[0,0].set_ylim(0, 0.25)\n",
    "axarr[0,0].set_xlabel('Month')\n",
    "axarr[0,0].set_ylabel('PDF')\n",
    "\n",
    "\n",
    "axarr[0,1].hist([datcom_l.iloc[:,1],datcom_nl.iloc[:,1]], color=colors, \n",
    "           label=labels,bins=20, range=[0,8], histtype=\"bar\", normed=True)\n",
    "axarr[0,1].set_xlim(0, 8)\n",
    "axarr[0,1].set_ylim(0, 0.5)\n",
    "axarr[0,1].set_xlabel('DayofWeek')\n",
    "\n",
    "\n",
    "axarr[1,0].hist([datcom_l.iloc[:,2],datcom_nl.iloc[:,2]], color=colors, \n",
    "           label=labels,bins=20, range=[0,30], histtype=\"bar\", normed=True)\n",
    "axarr[1,0].set_xlim(0, 31)\n",
    "axarr[1,0].set_ylim(0, 0.06)\n",
    "axarr[1,0].set_xlabel('DayofMonth')\n",
    "axarr[1,0].set_ylabel('PDF')\n",
    "\n",
    "axarr[1,1].hist([datcom_l.iloc[:,7],datcom_nl.iloc[:,7]], color=colors, \n",
    "           label=labels,bins=20, histtype=\"bar\", normed=True)\n",
    "axarr[1,1].set_xlabel('Distance')\n",
    "\n",
    "\n",
    "plt.tight_layout()\n",
    "fig.set_size_inches(width, height)\n",
    "fig.savefig(\"/Users/wildanabdussalam/Documents/Code/datascience/histo_ales.png\",\n",
    "           bbox_inches=\"tight\", dpi=200)\n",
    "plt.show()\n",
    "plt.clf()"
   ]
  },
  {
   "cell_type": "markdown",
   "metadata": {},
   "source": [
    "To gain some insights into features, normalized distributions for the 'delay' and 'non-delay' cases as the function of various features were plotted. Fig above shows 4 examples of normalized distributions for the 'delay' and 'non-delay' cases as the function of four features. Panels shows the probability density functions through (a) the months, (b) the days of week, (c) the days of month and (d) distances. As shown in Fig. (a), the delays frequently occured in March and December. Note that in contradiction to the Fig. 1 where the average of more than 15 minutes delays are considered, the distribution data provides the most frequent delay in August that relates to the end of summer vacations. Moreover, the departure delays frequently occured on Friday (see Fig. (b) and (c)) that was associated with weekly-short day-off. As the distances taken by the flight prone to departure delays were less than 1000 KM (see Fig. (d)), this shows that most of passenger travelled from San Francisco to other destinations for visiting their relatives, returning back from work, or having a short-vacation break. "
   ]
  },
  {
   "cell_type": "code",
   "execution_count": 399,
   "metadata": {
    "collapsed": true
   },
   "outputs": [],
   "source": [
    "from collections import Counter\n",
    "#minimum discrepancy function\n",
    "def min_discrepancy(x,y):\n",
    "    assert len(x)==len(y)\n",
    "    \n",
    "    xiny = False\n",
    "    yinx = False    \n",
    "    jumx = np.sum(x)\n",
    "    jumy = np.sum(y)\n",
    "    for (nilx,lily) in zip(x,y):\n",
    "        if nilx>0 and lily==0:\n",
    "            yinx = True\n",
    "        if nilx==0 and lily>0:\n",
    "            xiny = True\n",
    "    if xiny and yinx:         # x and y supports not nested\n",
    "        return float(\"inf\")\n",
    "    elif xiny:                # x support nested in y support\n",
    "        pval1  = 0.0\n",
    "        for (nilx,lily) in zip(x,y):\n",
    "            if nilx>0 and lily>0:\n",
    "                pval1 += (float(nilx)/jumx) * np.log((float(nilx)/jumx)/(float(lily)/jumy))\n",
    "        return pval1\n",
    "    elif yinx:                # y support nested in x support\n",
    "        pval2  = 0.0\n",
    "        for (nilx,lily) in zip(x,y):\n",
    "            if nilx>0 and lily>0:\n",
    "                pval2 += (float(lily)/jumy) * np.log((float(lily)/jumy)/(float(nilx)/jumx))\n",
    "        return pval2\n",
    "    else:                     # x and y supports identical\n",
    "        pval1  = 0.0\n",
    "        pval2  = 0.0\n",
    "        for (nilx,lily) in zip(x,y):\n",
    "            if (nilx>0) and (lily>0):\n",
    "                pval1 += (float(nilx)/jumx) * np.log((float(nilx)/jumx)/(float(lily)/jumy))\n",
    "                pval2 += (float(lily)/jumy) * np.log((float(lily)/jumy)/(float(nilx)/jumx))\n",
    "        return min(pval1,pval2)"
   ]
  },
  {
   "cell_type": "code",
   "execution_count": 466,
   "metadata": {},
   "outputs": [
    {
     "name": "stdout",
     "output_type": "stream",
     "text": [
      "10 intrinsic discrepancies between delay and no-delay, in decreasing order: \n",
      "   inf  (DepDel15)\n",
      "   3.483067e-01  (DepTime)\n",
      "   3.462886e-02  (Carrier)\n",
      "   6.120483e-03  (Dest)\n",
      "   0.000000e+00  (Month)\n",
      "   0.000000e+00  (DayofMonth)\n",
      "   0.000000e+00  (DayofWeek)\n",
      "   0.000000e+00  (TaxiOut)\n",
      "   0.000000e+00  (Distance)\n"
     ]
    }
   ],
   "source": [
    "discr = {}\n",
    "bin_ujung = np.linspace(min(datcom_l['Month']), max(datcom_l['Month']), 20)\n",
    "p1, bin_ujung1 = np.histogram(datcom_l.Month, bins=bin_ujung, density=False)\n",
    "p2, bin_ujung2 = np.histogram(datcom_nl.Month, bins=bin_ujung, density=False)\n",
    "discr[\"Month\"] = min_discrepancy(p1,p2)\n",
    "bin_ujung = np.linspace(min(datcom_l['DayofMonth']), max(datcom_l['DayofMonth']), 20)\n",
    "p1, bin_ujung1 = np.histogram(datcom_l.DayofMonth, bins=bin_ujung, density=False)\n",
    "p2, bin_ujung2 = np.histogram(datcom_nl.DayofMonth, bins=bin_ujung, density=False)\n",
    "discr[\"DayofMonth\"] = min_discrepancy(p1,p2)\n",
    "bin_ujung = np.linspace(min(datcom_l['DayofWeek']), max(datcom_l['DayofWeek']), 20)\n",
    "p1, bin_ujung1 = np.histogram(datcom_l.DayofWeek, bins=bin_ujung, density=False)\n",
    "p2, bin_ujung2 = np.histogram(datcom_nl.DayofWeek, bins=bin_ujung, density=False)\n",
    "discr[\"DayofWeek\"] = min_discrepancy(p1,p2)\n",
    "bin_ujung = np.linspace(min(datcom_l['Carrier']), max(datcom_l['Carrier']), 20)\n",
    "p1, bin_ujung1 = np.histogram(datcom_l.Carrier, bins=bin_ujung, density=False)\n",
    "p2, bin_ujung2 = np.histogram(datcom_nl.Carrier, bins=bin_ujung, density=False)\n",
    "discr[\"Carrier\"] = min_discrepancy(p1,p2)\n",
    "bin_ujung = np.linspace(min(datcom_l['Dest']), max(datcom_l['Dest']), 20)\n",
    "p1, bin_ujung1 = np.histogram(datcom_l.Dest, bins=bin_ujung, density=False)\n",
    "p2, bin_ujung2 = np.histogram(datcom_nl.Dest, bins=bin_ujung, density=False)\n",
    "discr[\"Dest\"] = min_discrepancy(p1,p2)\n",
    "bin_ujung = np.linspace(min(datcom_l['DepTime']), max(datcom_l['DepTime']), 20)\n",
    "p1, bin_ujung1 = np.histogram(datcom_l.DepTime, bins=bin_ujung, density=False)\n",
    "p2, bin_ujung2 = np.histogram(datcom_nl.DepTime, bins=bin_ujung, density=False)\n",
    "discr[\"DepTime\"] = min_discrepancy(p1,p2)\n",
    "bin_ujung = np.linspace(min(datcom_l['TaxiOut']), max(datcom_l['TaxiOut']), 20)\n",
    "p1, bin_ujung1 = np.histogram(datcom_l.TaxiOut, bins=bin_ujung, density=False)\n",
    "p2, bin_ujung2 = np.histogram(datcom_nl.TaxiOut, bins=bin_ujung, density=False)\n",
    "discr[\"TaxiOut\"] = min_discrepancy(p1,p2)\n",
    "bin_ujung = np.linspace(min(datcom_l['Distance']), max(datcom_l['Distance']), 20)\n",
    "p1, bin_ujung1 = np.histogram(datcom_l.Distance, bins=bin_ujung, density=False)\n",
    "p2, bin_ujung2 = np.histogram(datcom_nl.Distance, bins=bin_ujung, density=False)\n",
    "discr[\"Distance\"] = min_discrepancy(p1,p2)\n",
    "\n",
    "\n",
    "# Now do the dummy variables, starting at column 7 to skip the 6 columns we already did, \n",
    "# plus the response column \"dep_delayed_15min\".\n",
    "bin_ujungs   = np.linspace(-0.5, 1.5, 3)\n",
    "for ngaran in list(delay_maskapai_filt_pd_onan.columns.values):\n",
    "    p1,bin_ujungs1 = np.histogram(datcom_l[ngaran], bins=bin_ujungs, density=False)\n",
    "    p2,bin_ujungs2 = np.histogram(datcom_nl[ngaran], bins=bin_ujungs, density=False)\n",
    "    discr[ngaran] = min_discrepancy(p1, p2)\n",
    "    \n",
    "list_lal  = Counter(discr).most_common()\n",
    "ndisplay = 10\n",
    "print('%i intrinsic discrepancies between delay and no-delay, in decreasing order: ' %ndisplay)\n",
    "for feature in list_lal[:ndisplay]:\n",
    "    print('   %.6e  (%s)' % (feature[1],feature[0]))"
   ]
  },
  {
   "cell_type": "markdown",
   "metadata": {},
   "source": [
    "Random forest predictions"
   ]
  },
  {
   "cell_type": "code",
   "execution_count": 431,
   "metadata": {
    "collapsed": true
   },
   "outputs": [],
   "source": [
    "from sklearn.ensemble import RandomForestClassifier\n",
    "from sklearn.linear_model import LogisticRegression\n",
    "from sklearn.tree import DecisionTreeClassifier\n",
    "from sklearn.neural_network import MLPClassifier"
   ]
  },
  {
   "cell_type": "code",
   "execution_count": 474,
   "metadata": {},
   "outputs": [
    {
     "name": "stdout",
     "output_type": "stream",
     "text": [
      "118950 50979\n"
     ]
    }
   ],
   "source": [
    "Ntrain = int(0.7 * len(delay_maskapai_filt_pd_onan))\n",
    "Ntest = int(0.3 * len(delay_maskapai_filt_pd_onan))\n",
    "print(Ntrain, Ntest)"
   ]
  },
  {
   "cell_type": "code",
   "execution_count": 475,
   "metadata": {},
   "outputs": [],
   "source": [
    "#preparing training and test datasets\n",
    "X_train = delay_maskapai_filt_pd_onan.iloc[:-Ntest,0:8]\n",
    "X_test = delay_maskapai_filt_pd_onan.iloc[-Ntest:,0:8]\n",
    "Y_train = delay_maskapai_filt_pd_onan.iloc[:-Ntest,8]\n",
    "Y_test = delay_maskapai_filt_pd_onan.iloc[-Ntest:,8]\n",
    "clf = RandomForestClassifier(n_jobs=2, random_state=0)"
   ]
  },
  {
   "cell_type": "code",
   "execution_count": 476,
   "metadata": {},
   "outputs": [
    {
     "data": {
      "text/plain": [
       "RandomForestClassifier(bootstrap=True, class_weight=None, criterion='gini',\n",
       "            max_depth=None, max_features='auto', max_leaf_nodes=None,\n",
       "            min_impurity_decrease=0.0, min_impurity_split=None,\n",
       "            min_samples_leaf=1, min_samples_split=2,\n",
       "            min_weight_fraction_leaf=0.0, n_estimators=10, n_jobs=2,\n",
       "            oob_score=False, random_state=0, verbose=0, warm_start=False)"
      ]
     },
     "execution_count": 476,
     "metadata": {},
     "output_type": "execute_result"
    }
   ],
   "source": [
    "#Train the classifier\n",
    "clf.fit(X_train, Y_train)"
   ]
  },
  {
   "cell_type": "code",
   "execution_count": 477,
   "metadata": {},
   "outputs": [
    {
     "name": "stdout",
     "output_type": "stream",
     "text": [
      "50979 50979\n"
     ]
    }
   ],
   "source": [
    "y_pred = clf.predict(X_test)\n",
    "print(len(y_pred),len(X_test))"
   ]
  },
  {
   "cell_type": "code",
   "execution_count": 478,
   "metadata": {},
   "outputs": [
    {
     "data": {
      "text/plain": [
       "array([[0.6, 0.4],\n",
       "       [0.4, 0.6],\n",
       "       [0.5, 0.5],\n",
       "       [0.8, 0.2],\n",
       "       [0.6, 0.4],\n",
       "       [0.7, 0.3],\n",
       "       [0.6, 0.4],\n",
       "       [0.8, 0.2],\n",
       "       [0.8, 0.2],\n",
       "       [0.8, 0.2]])"
      ]
     },
     "execution_count": 478,
     "metadata": {},
     "output_type": "execute_result"
    }
   ],
   "source": [
    "clf.predict_proba(X_test)[0:10]"
   ]
  },
  {
   "cell_type": "code",
   "execution_count": 484,
   "metadata": {},
   "outputs": [
    {
     "name": "stdout",
     "output_type": "stream",
     "text": [
      "2648 48331 9352 41627\n"
     ]
    }
   ],
   "source": [
    "X_test['ypred'] = y_pred\n",
    "X_test['ytest'] = Y_test\n",
    "# X_test.head(10)\n",
    "X_pred_l = X_test[(X_test.ypred==1)]\n",
    "X_pred_nl = X_test[(X_test.ypred==0)]\n",
    "X_test_l = X_test[(X_test.ytest==1)]\n",
    "X_test_nl = X_test[(X_test.ytest==0)]\n",
    "print(len(X_pred_l),len(X_pred_nl), len(X_test_l), len(X_test_nl))"
   ]
  },
  {
   "cell_type": "code",
   "execution_count": 418,
   "metadata": {},
   "outputs": [
    {
     "name": "stderr",
     "output_type": "stream",
     "text": [
      "/Users/wildanabdussalam/.local/lib/python3.6/site-packages/matplotlib/axes/_axes.py:6462: UserWarning: The 'normed' kwarg is deprecated, and has been replaced by the 'density' kwarg.\n",
      "  warnings.warn(\"The 'normed' kwarg is deprecated, and has been \"\n",
      "/Users/wildanabdussalam/.local/lib/python3.6/site-packages/numpy/core/fromnumeric.py:52: FutureWarning: reshape is deprecated and will raise in a subsequent release. Please use .values.reshape(...) instead\n",
      "  return getattr(obj, method)(*args, **kwds)\n",
      "/Users/wildanabdussalam/.local/lib/python3.6/site-packages/matplotlib/font_manager.py:1328: UserWarning: findfont: Font family ['normal'] not found. Falling back to DejaVu Sans\n",
      "  (prop.get_family(), self.defaultFamily[fontext]))\n"
     ]
    },
    {
     "data": {
      "image/png": "[encoded data removed]",
      "text/plain": [
       "<Figure size 1297.4x1274.46 with 4 Axes>"
      ]
     },
     "metadata": {},
     "output_type": "display_data"
    }
   ],
   "source": [
    "font = {'family' : 'normal',\n",
    "        'weight' : 'bold',\n",
    "        'size'   : 13}\t\n",
    "plt.rc('font', **font)\n",
    "\n",
    "plt.axhline(linewidth=8) \n",
    "plt.axvline(linewidth=8) \n",
    "\n",
    "width = 6.487\n",
    "height = width / 1.018\n",
    "\n",
    "plt.close('all')\n",
    "#Plotting Mean Departure delay over a Day\n",
    "fig, axarr = plt.subplots(2,2, figsize=(6,6), dpi=200,  sharex=False, sharey=False)\n",
    "fig.subplots_adjust(left=.15, bottom=.16, right=.99, top=.97)\n",
    "colors = ['red', 'blue', 'green', 'magenta']\n",
    "labels = ['p-del', 'p-no-del', 't-del', 't-no-del']\n",
    "\n",
    "axarr[0,0].hist([X_pred_l.iloc[:,0],X_pred_nl.iloc[:,0], X_test_l.iloc[:,0],X_test_nl.iloc[:,0]], \n",
    "                color=colors,label=labels,bins=20, range=[0,13], histtype=\"step\", normed=True)\n",
    "# axarr[0,0].set_xlim(0, 13)\n",
    "# axarr[0,0].set_ylim(0, 0.25)\n",
    "axarr[0,0].set_xlabel('Month')\n",
    "axarr[0,0].set_ylabel('PDF')\n",
    "\n",
    "\n",
    "axarr[0,1].hist([X_pred_l.iloc[:,1],X_pred_nl.iloc[:,1], X_test_l.iloc[:,1],X_test_nl.iloc[:,1]], color=colors, \n",
    "           label=labels,bins=20, range=[0,8], histtype=\"step\", normed=True)\n",
    "axarr[0,1].legend(prop={'size': 10}, loc=2)\n",
    "# axarr[0,1].set_xlim(0, 8)\n",
    "# axarr[0,1].set_ylim(0, 0.5)\n",
    "axarr[0,1].set_xlabel('DayofWeek')\n",
    "\n",
    "\n",
    "axarr[1,0].hist([X_pred_l.iloc[:,2],X_pred_nl.iloc[:,2], X_test_l.iloc[:,2],X_test_nl.iloc[:,2]], color=colors, \n",
    "           label=labels,bins=20, range=[0,30], histtype=\"step\", normed=True)\n",
    "# axarr[1,0].set_xlim(0, 31)\n",
    "# axarr[1,0].set_ylim(0, 0.06)\n",
    "axarr[1,0].set_xlabel('DayofMonth')\n",
    "axarr[1,0].set_ylabel('PDF')\n",
    "\n",
    "axarr[1,1].hist([X_pred_l.iloc[:,4],X_pred_nl.iloc[:,4], X_test_l.iloc[:,4],X_test_nl.iloc[:,4]], color=colors, \n",
    "           label=labels,bins=20, histtype=\"step\", normed=True)\n",
    "axarr[1,1].set_xlabel('Distance')\n",
    "\n",
    "plt.tight_layout()\n",
    "fig.set_size_inches(width, height)\n",
    "fig.savefig(\"/Users/wildanabdussalam/Documents/Code/datascience/distri_pred.png\",\n",
    "           bbox_inches=\"tight\", dpi=200)\n",
    "plt.show()\n",
    "plt.clf()"
   ]
  },
  {
   "cell_type": "markdown",
   "metadata": {},
   "source": [
    "Comparing methods : Random Forest, Logistic regression, Decision tree Classifiers and Neural networks"
   ]
  },
  {
   "cell_type": "code",
   "execution_count": 479,
   "metadata": {},
   "outputs": [
    {
     "data": {
      "text/plain": [
       "0.7964652111653818"
      ]
     },
     "execution_count": 479,
     "metadata": {},
     "output_type": "execute_result"
    }
   ],
   "source": [
    "clf.score(X_test, Y_test) #Random Forest"
   ]
  },
  {
   "cell_type": "code",
   "execution_count": 480,
   "metadata": {
    "collapsed": true
   },
   "outputs": [],
   "source": [
    "clf1 = LogisticRegression()"
   ]
  },
  {
   "cell_type": "code",
   "execution_count": 481,
   "metadata": {},
   "outputs": [
    {
     "data": {
      "text/plain": [
       "0.8163557543302145"
      ]
     },
     "execution_count": 481,
     "metadata": {},
     "output_type": "execute_result"
    }
   ],
   "source": [
    "clf1.fit(X_train, Y_train) #Logistic regression\n",
    "clf1.score(X_test, Y_test)"
   ]
  },
  {
   "cell_type": "code",
   "execution_count": 482,
   "metadata": {
    "collapsed": true
   },
   "outputs": [],
   "source": [
    "clf2 = DecisionTreeClassifier()"
   ]
  },
  {
   "cell_type": "code",
   "execution_count": 483,
   "metadata": {},
   "outputs": [
    {
     "data": {
      "text/plain": [
       "0.678161595951274"
      ]
     },
     "execution_count": 483,
     "metadata": {},
     "output_type": "execute_result"
    }
   ],
   "source": [
    "clf2.fit(X_train, Y_train) #Decision Tree Classifier\n",
    "clf2.score(X_test, Y_test)"
   ]
  },
  {
   "cell_type": "code",
   "execution_count": 442,
   "metadata": {
    "collapsed": true
   },
   "outputs": [],
   "source": [
    "clf3 = clf = MLPClassifier(solver='lbfgs', alpha=1e-5, hidden_layer_sizes=(5, 2), random_state=1)"
   ]
  },
  {
   "cell_type": "code",
   "execution_count": 443,
   "metadata": {},
   "outputs": [
    {
     "data": {
      "text/plain": [
       "0.8147446187170015"
      ]
     },
     "execution_count": 443,
     "metadata": {},
     "output_type": "execute_result"
    }
   ],
   "source": [
    "clf3.fit(X_train, Y_train) #Neural networks\n",
    "clf3.score(X_test, Y_test)"
   ]
  },
  {
   "cell_type": "markdown",
   "metadata": {},
   "source": [
    "As random forest shows the most precise prediction, we improve its performance by a grid search method."
   ]
  },
  {
   "cell_type": "code",
   "execution_count": 419,
   "metadata": {
    "collapsed": true
   },
   "outputs": [],
   "source": [
    "#In order to reduce deviation a grid search is performed. \n",
    "from sklearn.grid_search import GridSearchCV\n",
    "\n",
    "parameter_grid = [{'n_estimators':[50, 100, 200], 'max_depth' : [5, 10, 20], 'min_samples_leaf' :[1, 2, 3, 4, 5, 10, 20]\n",
    "                  }]\n",
    "\n",
    "#begin the grid search\n",
    "clf = GridSearchCV(RandomForestClassifier(bootstrap=True, class_weight=\"balanced_subsample\", criterion='gini',\n",
    "            max_features='auto', max_leaf_nodes=None,\n",
    "            min_impurity_decrease=0.0, min_impurity_split=None,min_samples_split=2,\n",
    "            min_weight_fraction_leaf=0.0, n_estimators=10, n_jobs=-1,\n",
    "            oob_score=False, random_state=0, verbose=0, warm_start=False),\n",
    "                   parameter_grid,refit=True, cv=3,scoring='roc_auc')"
   ]
  },
  {
   "cell_type": "code",
   "execution_count": 421,
   "metadata": {},
   "outputs": [
    {
     "name": "stdout",
     "output_type": "stream",
     "text": [
      "CPU times: user 38min 44s, sys: 55.8 s, total: 39min 39s\n",
      "Wall time: 14min 2s\n",
      "Best parameters:\n",
      " \n",
      "{'max_depth': 20, 'min_samples_leaf': 2, 'n_estimators': 200}\n",
      " \n",
      "Grid scores:\n",
      " \n",
      "0.664 (+/-0.036) for {'max_depth': 5, 'min_samples_leaf': 1, 'n_estimators': 50}\n",
      "0.666 (+/-0.037) for {'max_depth': 5, 'min_samples_leaf': 1, 'n_estimators': 100}\n",
      "0.667 (+/-0.041) for {'max_depth': 5, 'min_samples_leaf': 1, 'n_estimators': 200}\n",
      "0.665 (+/-0.035) for {'max_depth': 5, 'min_samples_leaf': 2, 'n_estimators': 50}\n",
      "0.666 (+/-0.037) for {'max_depth': 5, 'min_samples_leaf': 2, 'n_estimators': 100}\n",
      "0.667 (+/-0.042) for {'max_depth': 5, 'min_samples_leaf': 2, 'n_estimators': 200}\n",
      "0.665 (+/-0.039) for {'max_depth': 5, 'min_samples_leaf': 3, 'n_estimators': 50}\n",
      "0.666 (+/-0.039) for {'max_depth': 5, 'min_samples_leaf': 3, 'n_estimators': 100}\n",
      "0.667 (+/-0.042) for {'max_depth': 5, 'min_samples_leaf': 3, 'n_estimators': 200}\n",
      "0.664 (+/-0.039) for {'max_depth': 5, 'min_samples_leaf': 4, 'n_estimators': 50}\n",
      "0.666 (+/-0.039) for {'max_depth': 5, 'min_samples_leaf': 4, 'n_estimators': 100}\n",
      "0.667 (+/-0.042) for {'max_depth': 5, 'min_samples_leaf': 4, 'n_estimators': 200}\n",
      "0.664 (+/-0.040) for {'max_depth': 5, 'min_samples_leaf': 5, 'n_estimators': 50}\n",
      "0.665 (+/-0.040) for {'max_depth': 5, 'min_samples_leaf': 5, 'n_estimators': 100}\n",
      "0.666 (+/-0.044) for {'max_depth': 5, 'min_samples_leaf': 5, 'n_estimators': 200}\n",
      "0.661 (+/-0.042) for {'max_depth': 5, 'min_samples_leaf': 10, 'n_estimators': 50}\n",
      "0.664 (+/-0.040) for {'max_depth': 5, 'min_samples_leaf': 10, 'n_estimators': 100}\n",
      "0.666 (+/-0.044) for {'max_depth': 5, 'min_samples_leaf': 10, 'n_estimators': 200}\n",
      "0.665 (+/-0.033) for {'max_depth': 5, 'min_samples_leaf': 20, 'n_estimators': 50}\n",
      "0.666 (+/-0.033) for {'max_depth': 5, 'min_samples_leaf': 20, 'n_estimators': 100}\n",
      "0.667 (+/-0.039) for {'max_depth': 5, 'min_samples_leaf': 20, 'n_estimators': 200}\n",
      "0.695 (+/-0.086) for {'max_depth': 10, 'min_samples_leaf': 1, 'n_estimators': 50}\n",
      "0.699 (+/-0.082) for {'max_depth': 10, 'min_samples_leaf': 1, 'n_estimators': 100}\n",
      "0.702 (+/-0.078) for {'max_depth': 10, 'min_samples_leaf': 1, 'n_estimators': 200}\n",
      "0.699 (+/-0.074) for {'max_depth': 10, 'min_samples_leaf': 2, 'n_estimators': 50}\n",
      "0.703 (+/-0.072) for {'max_depth': 10, 'min_samples_leaf': 2, 'n_estimators': 100}\n",
      "0.704 (+/-0.074) for {'max_depth': 10, 'min_samples_leaf': 2, 'n_estimators': 200}\n",
      "0.702 (+/-0.072) for {'max_depth': 10, 'min_samples_leaf': 3, 'n_estimators': 50}\n",
      "0.703 (+/-0.072) for {'max_depth': 10, 'min_samples_leaf': 3, 'n_estimators': 100}\n",
      "0.703 (+/-0.071) for {'max_depth': 10, 'min_samples_leaf': 3, 'n_estimators': 200}\n",
      "0.701 (+/-0.070) for {'max_depth': 10, 'min_samples_leaf': 4, 'n_estimators': 50}\n",
      "0.703 (+/-0.071) for {'max_depth': 10, 'min_samples_leaf': 4, 'n_estimators': 100}\n",
      "0.703 (+/-0.075) for {'max_depth': 10, 'min_samples_leaf': 4, 'n_estimators': 200}\n",
      "0.698 (+/-0.072) for {'max_depth': 10, 'min_samples_leaf': 5, 'n_estimators': 50}\n",
      "0.703 (+/-0.069) for {'max_depth': 10, 'min_samples_leaf': 5, 'n_estimators': 100}\n",
      "0.705 (+/-0.070) for {'max_depth': 10, 'min_samples_leaf': 5, 'n_estimators': 200}\n",
      "0.700 (+/-0.072) for {'max_depth': 10, 'min_samples_leaf': 10, 'n_estimators': 50}\n",
      "0.700 (+/-0.070) for {'max_depth': 10, 'min_samples_leaf': 10, 'n_estimators': 100}\n",
      "0.703 (+/-0.071) for {'max_depth': 10, 'min_samples_leaf': 10, 'n_estimators': 200}\n",
      "0.694 (+/-0.067) for {'max_depth': 10, 'min_samples_leaf': 20, 'n_estimators': 50}\n",
      "0.698 (+/-0.069) for {'max_depth': 10, 'min_samples_leaf': 20, 'n_estimators': 100}\n",
      "0.699 (+/-0.071) for {'max_depth': 10, 'min_samples_leaf': 20, 'n_estimators': 200}\n",
      "0.728 (+/-0.099) for {'max_depth': 20, 'min_samples_leaf': 1, 'n_estimators': 50}\n",
      "0.733 (+/-0.103) for {'max_depth': 20, 'min_samples_leaf': 1, 'n_estimators': 100}\n",
      "0.737 (+/-0.106) for {'max_depth': 20, 'min_samples_leaf': 1, 'n_estimators': 200}\n",
      "0.731 (+/-0.103) for {'max_depth': 20, 'min_samples_leaf': 2, 'n_estimators': 50}\n",
      "0.734 (+/-0.104) for {'max_depth': 20, 'min_samples_leaf': 2, 'n_estimators': 100}\n",
      "0.737 (+/-0.105) for {'max_depth': 20, 'min_samples_leaf': 2, 'n_estimators': 200}\n",
      "0.730 (+/-0.099) for {'max_depth': 20, 'min_samples_leaf': 3, 'n_estimators': 50}\n",
      "0.733 (+/-0.099) for {'max_depth': 20, 'min_samples_leaf': 3, 'n_estimators': 100}\n",
      "0.736 (+/-0.101) for {'max_depth': 20, 'min_samples_leaf': 3, 'n_estimators': 200}\n",
      "0.730 (+/-0.097) for {'max_depth': 20, 'min_samples_leaf': 4, 'n_estimators': 50}\n",
      "0.734 (+/-0.096) for {'max_depth': 20, 'min_samples_leaf': 4, 'n_estimators': 100}\n",
      "0.737 (+/-0.096) for {'max_depth': 20, 'min_samples_leaf': 4, 'n_estimators': 200}\n",
      "0.729 (+/-0.092) for {'max_depth': 20, 'min_samples_leaf': 5, 'n_estimators': 50}\n",
      "0.733 (+/-0.093) for {'max_depth': 20, 'min_samples_leaf': 5, 'n_estimators': 100}\n",
      "0.734 (+/-0.095) for {'max_depth': 20, 'min_samples_leaf': 5, 'n_estimators': 200}\n",
      "0.721 (+/-0.090) for {'max_depth': 20, 'min_samples_leaf': 10, 'n_estimators': 50}\n",
      "0.724 (+/-0.088) for {'max_depth': 20, 'min_samples_leaf': 10, 'n_estimators': 100}\n",
      "0.726 (+/-0.091) for {'max_depth': 20, 'min_samples_leaf': 10, 'n_estimators': 200}\n",
      "0.716 (+/-0.078) for {'max_depth': 20, 'min_samples_leaf': 20, 'n_estimators': 50}\n",
      "0.719 (+/-0.082) for {'max_depth': 20, 'min_samples_leaf': 20, 'n_estimators': 100}\n",
      "0.720 (+/-0.082) for {'max_depth': 20, 'min_samples_leaf': 20, 'n_estimators': 200}\n",
      "\n",
      "Best estimator:\n",
      "RandomForestClassifier(bootstrap=True, class_weight='balanced_subsample',\n",
      "            criterion='gini', max_depth=20, max_features='auto',\n",
      "            max_leaf_nodes=None, min_impurity_decrease=0.0,\n",
      "            min_impurity_split=None, min_samples_leaf=2,\n",
      "            min_samples_split=2, min_weight_fraction_leaf=0.0,\n",
      "            n_estimators=200, n_jobs=-1, oob_score=False, random_state=0,\n",
      "            verbose=0, warm_start=False)\n"
     ]
    }
   ],
   "source": [
    "%time clf.fit(X_train, Y_train)\n",
    "# Print out the results\n",
    "print(\"Best parameters:\")\n",
    "print(\" \")\n",
    "print(clf.best_params_)\n",
    "print(\" \")\n",
    "print(\"Grid scores:\")\n",
    "print(\" \")\n",
    "for params, mean_score, scores in clf.grid_scores_:\n",
    "    print(\"%0.3f (+/-%0.03f) for %r\" %(mean_score, scores.std()*2, params))\n",
    "\n",
    "# Retrieve best random forest model from grid search\n",
    "rf2 = clf.best_estimator_\n",
    "print(\"\\nBest estimator:\\n%s\" %rf2)"
   ]
  },
  {
   "cell_type": "code",
   "execution_count": 422,
   "metadata": {},
   "outputs": [
    {
     "data": {
      "text/plain": [
       "0.7934001723211861"
      ]
     },
     "execution_count": 422,
     "metadata": {},
     "output_type": "execute_result"
    }
   ],
   "source": [
    "clf.score(X_test, Y_test) #Random Forest improved -> is not improved so stick the previous value."
   ]
  },
  {
   "cell_type": "code",
   "execution_count": 492,
   "metadata": {},
   "outputs": [
    {
     "name": "stdout",
     "output_type": "stream",
     "text": [
      "10 intrinsic discrepancies between delay and no-delay, in decreasing order: \n",
      "   1.017827e-01  (DepTime)\n",
      "   2.940339e-02  (Carrier)\n",
      "   7.990665e-03  (Dest)\n",
      "   0.000000e+00  (Month)\n",
      "   0.000000e+00  (DayofMonth)\n",
      "   0.000000e+00  (DayofWeek)\n",
      "   0.000000e+00  (TaxiOut)\n",
      "   0.000000e+00  (Distance)\n"
     ]
    }
   ],
   "source": [
    "discr = {}\n",
    "bin_ujung = np.linspace(min(X_pred_l['Month']), max(X_pred_l['Month']), 20)\n",
    "p1, bin_ujung1 = np.histogram(X_pred_l.Month, bins=bin_ujung, density=False)\n",
    "p2, bin_ujung2 = np.histogram(X_pred_nl.Month, bins=bin_ujung, density=False)\n",
    "discr[\"Month\"] = min_discrepancy(p1,p2)\n",
    "bin_ujung = np.linspace(min(X_pred_l['DayofMonth']), max(X_pred_l['DayofMonth']), 20)\n",
    "p1, bin_ujung1 = np.histogram(X_pred_l.DayofMonth, bins=bin_ujung, density=False)\n",
    "p2, bin_ujung2 = np.histogram(X_pred_nl.DayofMonth, bins=bin_ujung, density=False)\n",
    "discr[\"DayofMonth\"] = min_discrepancy(p1,p2)\n",
    "bin_ujung = np.linspace(min(X_pred_l['DayofWeek']), max(X_pred_l['DayofWeek']), 20)\n",
    "p1, bin_ujung1 = np.histogram(X_pred_l.DayofWeek, bins=bin_ujung, density=False)\n",
    "p2, bin_ujung2 = np.histogram(X_pred_nl.DayofWeek, bins=bin_ujung, density=False)\n",
    "discr[\"DayofWeek\"] = min_discrepancy(p1,p2)\n",
    "bin_ujung = np.linspace(min(X_pred_l['Carrier']), max(X_pred_l['Carrier']), 20)\n",
    "p1, bin_ujung1 = np.histogram(X_pred_l.Carrier, bins=bin_ujung, density=False)\n",
    "p2, bin_ujung2 = np.histogram(X_pred_nl.Carrier, bins=bin_ujung, density=False)\n",
    "discr[\"Carrier\"] = min_discrepancy(p1,p2)\n",
    "bin_ujung = np.linspace(min(X_pred_l['Dest']), max(X_pred_l['Dest']), 20)\n",
    "p1, bin_ujung1 = np.histogram(X_pred_l.Dest, bins=bin_ujung, density=False)\n",
    "p2, bin_ujung2 = np.histogram(X_pred_nl.Dest, bins=bin_ujung, density=False)\n",
    "discr[\"Dest\"] = min_discrepancy(p1,p2)\n",
    "bin_ujung = np.linspace(min(X_pred_l['DepTime']), max(X_pred_l['DepTime']), 20)\n",
    "p1, bin_ujung1 = np.histogram(X_pred_l.DepTime, bins=bin_ujung, density=False)\n",
    "p2, bin_ujung2 = np.histogram(X_pred_nl.DepTime, bins=bin_ujung, density=False)\n",
    "discr[\"DepTime\"] = min_discrepancy(p1,p2)\n",
    "bin_ujung = np.linspace(min(X_pred_l['TaxiOut']), max(X_pred_l['TaxiOut']), 20)\n",
    "p1, bin_ujung1 = np.histogram(X_pred_l.TaxiOut, bins=bin_ujung, density=False)\n",
    "p2, bin_ujung2 = np.histogram(X_pred_nl.TaxiOut, bins=bin_ujung, density=False)\n",
    "discr[\"TaxiOut\"] = min_discrepancy(p1,p2)\n",
    "bin_ujung = np.linspace(min(X_pred_l['Distance']), max(X_pred_l['Distance']), 20)\n",
    "p1, bin_ujung1 = np.histogram(X_pred_l.Distance, bins=bin_ujung, density=False)\n",
    "p2, bin_ujung2 = np.histogram(X_pred_nl.Distance, bins=bin_ujung, density=False)\n",
    "discr[\"Distance\"] = min_discrepancy(p1,p2)\n",
    "\n",
    "\n",
    "# Now do the dummy variables, starting at column 7 to skip the 6 columns we already did, \n",
    "# plus the response column \"dep_delayed_15min\".\n",
    "bin_ujungs   = np.linspace(-0.5, 1.5, 3)\n",
    "for ngaran in list(delay_maskapai_filt_pd_onan.columns.values)[:-1]:\n",
    "    p1,bin_ujungs1 = np.histogram(X_pred_l[ngaran], bins=bin_ujungs, density=False)\n",
    "    p2,bin_ujungs2 = np.histogram(X_pred_nl[ngaran], bins=bin_ujungs, density=False)\n",
    "    discr[ngaran] = min_discrepancy(p1, p2)\n",
    "    \n",
    "list_lal  = Counter(discr).most_common()\n",
    "ndisplay = 10\n",
    "print('%i intrinsic discrepancies between delay and no-delay, in decreasing order: ' %ndisplay)\n",
    "for feature in list_lal[:ndisplay]:\n",
    "    print('   %.6e  (%s)' % (feature[1],feature[0]))"
   ]
  },
  {
   "cell_type": "code",
   "execution_count": 485,
   "metadata": {},
   "outputs": [
    {
     "data": {
      "text/html": [
       "<div>\n",
       "<style scoped>\n",
       "    .dataframe tbody tr th:only-of-type {\n",
       "        vertical-align: middle;\n",
       "    }\n",
       "\n",
       "    .dataframe tbody tr th {\n",
       "        vertical-align: top;\n",
       "    }\n",
       "\n",
       "    .dataframe thead th {\n",
       "        text-align: right;\n",
       "    }\n",
       "</style>\n",
       "<table border=\"1\" class=\"dataframe\">\n",
       "  <thead>\n",
       "    <tr style=\"text-align: right;\">\n",
       "      <th></th>\n",
       "      <th>Month</th>\n",
       "      <th>DayofWeek</th>\n",
       "      <th>DayofMonth</th>\n",
       "      <th>Carrier</th>\n",
       "      <th>Dest</th>\n",
       "      <th>DepTime</th>\n",
       "      <th>TaxiOut</th>\n",
       "      <th>Distance</th>\n",
       "      <th>ypred</th>\n",
       "      <th>ytest</th>\n",
       "    </tr>\n",
       "  </thead>\n",
       "  <tbody>\n",
       "    <tr>\n",
       "      <th>120764</th>\n",
       "      <td>10</td>\n",
       "      <td>6</td>\n",
       "      <td>22</td>\n",
       "      <td>9</td>\n",
       "      <td>38</td>\n",
       "      <td>917</td>\n",
       "      <td>11.0</td>\n",
       "      <td>447.0</td>\n",
       "      <td>1.0</td>\n",
       "      <td>0.0</td>\n",
       "    </tr>\n",
       "    <tr>\n",
       "      <th>120776</th>\n",
       "      <td>10</td>\n",
       "      <td>7</td>\n",
       "      <td>23</td>\n",
       "      <td>9</td>\n",
       "      <td>4</td>\n",
       "      <td>126</td>\n",
       "      <td>14.0</td>\n",
       "      <td>967.0</td>\n",
       "      <td>1.0</td>\n",
       "      <td>0.0</td>\n",
       "    </tr>\n",
       "    <tr>\n",
       "      <th>120790</th>\n",
       "      <td>10</td>\n",
       "      <td>7</td>\n",
       "      <td>23</td>\n",
       "      <td>9</td>\n",
       "      <td>43</td>\n",
       "      <td>794</td>\n",
       "      <td>17.0</td>\n",
       "      <td>337.0</td>\n",
       "      <td>1.0</td>\n",
       "      <td>1.0</td>\n",
       "    </tr>\n",
       "    <tr>\n",
       "      <th>120805</th>\n",
       "      <td>10</td>\n",
       "      <td>7</td>\n",
       "      <td>23</td>\n",
       "      <td>9</td>\n",
       "      <td>38</td>\n",
       "      <td>1044</td>\n",
       "      <td>18.0</td>\n",
       "      <td>447.0</td>\n",
       "      <td>1.0</td>\n",
       "      <td>1.0</td>\n",
       "    </tr>\n",
       "    <tr>\n",
       "      <th>120815</th>\n",
       "      <td>10</td>\n",
       "      <td>7</td>\n",
       "      <td>23</td>\n",
       "      <td>9</td>\n",
       "      <td>35</td>\n",
       "      <td>479</td>\n",
       "      <td>14.0</td>\n",
       "      <td>372.0</td>\n",
       "      <td>1.0</td>\n",
       "      <td>0.0</td>\n",
       "    </tr>\n",
       "    <tr>\n",
       "      <th>120824</th>\n",
       "      <td>10</td>\n",
       "      <td>2</td>\n",
       "      <td>25</td>\n",
       "      <td>9</td>\n",
       "      <td>4</td>\n",
       "      <td>377</td>\n",
       "      <td>23.0</td>\n",
       "      <td>967.0</td>\n",
       "      <td>1.0</td>\n",
       "      <td>1.0</td>\n",
       "    </tr>\n",
       "    <tr>\n",
       "      <th>120880</th>\n",
       "      <td>10</td>\n",
       "      <td>3</td>\n",
       "      <td>26</td>\n",
       "      <td>9</td>\n",
       "      <td>7</td>\n",
       "      <td>1105</td>\n",
       "      <td>14.0</td>\n",
       "      <td>414.0</td>\n",
       "      <td>1.0</td>\n",
       "      <td>0.0</td>\n",
       "    </tr>\n",
       "    <tr>\n",
       "      <th>120885</th>\n",
       "      <td>10</td>\n",
       "      <td>3</td>\n",
       "      <td>26</td>\n",
       "      <td>9</td>\n",
       "      <td>43</td>\n",
       "      <td>965</td>\n",
       "      <td>19.0</td>\n",
       "      <td>337.0</td>\n",
       "      <td>1.0</td>\n",
       "      <td>0.0</td>\n",
       "    </tr>\n",
       "    <tr>\n",
       "      <th>120898</th>\n",
       "      <td>10</td>\n",
       "      <td>3</td>\n",
       "      <td>26</td>\n",
       "      <td>9</td>\n",
       "      <td>8</td>\n",
       "      <td>700</td>\n",
       "      <td>10.0</td>\n",
       "      <td>651.0</td>\n",
       "      <td>1.0</td>\n",
       "      <td>0.0</td>\n",
       "    </tr>\n",
       "    <tr>\n",
       "      <th>120931</th>\n",
       "      <td>10</td>\n",
       "      <td>4</td>\n",
       "      <td>27</td>\n",
       "      <td>9</td>\n",
       "      <td>7</td>\n",
       "      <td>507</td>\n",
       "      <td>10.0</td>\n",
       "      <td>414.0</td>\n",
       "      <td>1.0</td>\n",
       "      <td>1.0</td>\n",
       "    </tr>\n",
       "  </tbody>\n",
       "</table>\n",
       "</div>"
      ],
      "text/plain": [
       "        Month  DayofWeek  DayofMonth  Carrier  Dest  DepTime  TaxiOut  \\\n",
       "120764     10          6          22        9    38      917     11.0   \n",
       "120776     10          7          23        9     4      126     14.0   \n",
       "120790     10          7          23        9    43      794     17.0   \n",
       "120805     10          7          23        9    38     1044     18.0   \n",
       "120815     10          7          23        9    35      479     14.0   \n",
       "120824     10          2          25        9     4      377     23.0   \n",
       "120880     10          3          26        9     7     1105     14.0   \n",
       "120885     10          3          26        9    43      965     19.0   \n",
       "120898     10          3          26        9     8      700     10.0   \n",
       "120931     10          4          27        9     7      507     10.0   \n",
       "\n",
       "        Distance  ypred  ytest  \n",
       "120764     447.0    1.0    0.0  \n",
       "120776     967.0    1.0    0.0  \n",
       "120790     337.0    1.0    1.0  \n",
       "120805     447.0    1.0    1.0  \n",
       "120815     372.0    1.0    0.0  \n",
       "120824     967.0    1.0    1.0  \n",
       "120880     414.0    1.0    0.0  \n",
       "120885     337.0    1.0    0.0  \n",
       "120898     651.0    1.0    0.0  \n",
       "120931     414.0    1.0    1.0  "
      ]
     },
     "execution_count": 485,
     "metadata": {},
     "output_type": "execute_result"
    }
   ],
   "source": [
    "X_pred_l.head(10)"
   ]
  },
  {
   "cell_type": "code",
   "execution_count": null,
   "metadata": {
    "collapsed": true
   },
   "outputs": [],
   "source": []
  }
 ],
 "metadata": {
  "kernelspec": {
   "display_name": "Python 3",
   "language": "python",
   "name": "python3"
  },
  "language_info": {
   "codemirror_mode": {
    "name": "ipython",
    "version": 3
   },
   "file_extension": ".py",
   "mimetype": "text/x-python",
   "name": "python",
   "nbconvert_exporter": "python",
   "pygments_lexer": "ipython3",
   "version": "3.6.3"
  }
 },
 "nbformat": 4,
 "nbformat_minor": 2
}
